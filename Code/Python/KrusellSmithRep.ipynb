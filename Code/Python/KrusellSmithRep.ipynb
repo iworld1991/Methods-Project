{
 "cells": [
  {
   "cell_type": "markdown",
   "metadata": {
    "deletable": true,
    "editable": true
   },
   "source": [
    "# [Krusell Smith (1998)](https://www.journals.uchicago.edu/doi/pdf/10.1086/250034)\n",
    "<!-- Also, though the notebook says it is by you and Melih, the only notations I found were for additions by you -->\n",
    "<!-- If Melih did not do much, his name does not deserve to be on an equal footing with yours -->\n",
    "- Original version by Tim Munday \n",
    "- Comments and extensions by Tao Wang and Melih Firat\n",
    "- Further edits by Chris Carroll"
   ]
  },
  {
   "cell_type": "markdown",
   "metadata": {
    "deletable": true,
    "editable": true
   },
   "source": [
    "### Overview\n",
    "\n",
    "The benchmark Krusell-Smith model has the following broad features:\n",
    "   * The aggregate state switches between \"good\" and \"bad\" with known probabilities\n",
    "   * All consumers experience the same aggregate state for the economy (good or bad)\n",
    "   * _ex ante_ there is only one type of consumer, which is infinitely lived\n",
    "   * _ex post_ heterogeneity arises from uninsurable idiosyncratic income shocks\n",
    "      * Specifically, individuals are at risk of spells of unemployment\n",
    "      * In a spell of unemployment, their income is zero\n",
    "   \n",
    "Thus, each agent faces two types of uncertainty: About their employment state, and about the income they will earn when employed.  And the values of income and unemployment risk depend on the aggregate state.\n"
   ]
  },
  {
   "cell_type": "markdown",
   "metadata": {
    "deletable": true,
    "editable": true
   },
   "source": [
    "### Details\n",
    "\n",
    "#### Idiosyncratic\n",
    "Each agent _attempts_ to supply an amount of productive labor $\\ell$ in each period.  (Here and below we mostly follow the notation of Krusell and Smith (1998)).\n",
    "\n",
    "However, whether they _succeed_ in supplying that labor (and earning a corresponding wage) is governed by the realization of the stochastic variable $\\epsilon$.  If the agent is unlucky, $\\epsilon$ is zero and the agent is unemployed.  The amount of labor they succeed in supplying is thus $\\epsilon\\ell$.\n",
    "\n",
    "#### Aggregate\n",
    "Aggregate output ($\\bar{y}$) is produced using a Cobb-Douglas production function using capital and labor. (Bars over variables indicate the aggregate value of a variable that has different values across different idiosyncratic consumers).\n",
    "\n",
    "$z$ denotes the aggregate shock to productivity. $z$ can take two values, either $z_g$ -- the \"good\" state, or $z_b < z_g$ -- the \"bad\" state.  Consumers gain income from providing labor, and from the rental return on any capital they own.  Labor and capital markets are perfectly efficient so both factors are both paid their marginal products.\n",
    "\n",
    "The agent can choose to save by buying capital $k$ which is bounded below at the borrowing constraint of 0.\n",
    "\n",
    "\n",
    "Putting all of this together, aggregate output is given by \n",
    "\n",
    "\\begin{eqnarray}\n",
    "\\bar{y} & = & z\\bar{k}^\\alpha \\bar{\\ell}^{1-\\alpha}\n",
    "\\end{eqnarray}\n"
   ]
  },
  {
   "cell_type": "markdown",
   "metadata": {
    "deletable": true,
    "editable": true
   },
   "source": [
    "The aggregate shocks $z$ follow a first-order Markov chains with the transition probability of moving from state $s$ to state $s'$ denoted by $\\pi_{ss'}$. The aggregate shocks and individual shocks are correlated: The probability of being unemployed is higher in bad times, when aggregate productivity is low, than in good times, when aggregate productivity is high.\n",
    "\n",
    "#### Idiosyncratic and Aggregate Together\n",
    "\n",
    "The individual shocks satisfy the law of large numbers, and the model is constructed so that the number of agents who are unemployed in the good state always equals $u_g$, and is always $u_b$ in the bad state. Given the aggregate state, individual shocks are independent from each other.\n",
    "\n",
    "For the individual, the probability of moving between a good state and employment to a bad state and unemployment is denoted $\\pi_{gb10}$ with similar notation for the other transition probabilities.\n",
    "\n",
    "(Krusell and Smith allow for serially correlated unemployment at the idiosyncratic level. Here we will simplify this and have unemployment be serially uncorrelated.)"
   ]
  },
  {
   "cell_type": "markdown",
   "metadata": {
    "deletable": true,
    "editable": true
   },
   "source": [
    "Finally, $\\Gamma$ denotes the current distribution of consumers over capital and employment status, and $H$ denotes the law of motion of this distribution. "
   ]
  },
  {
   "cell_type": "markdown",
   "metadata": {
    "deletable": true,
    "editable": true
   },
   "source": [
    "#### The Idiosyncratic Individual's Problem Given the Aggregate State\n",
    "\n",
    "The individual's problem is:\n",
    "\\begin{eqnarray*}\n",
    "V(k, \\epsilon; \\Gamma, z) &=& \\max_{k'}\\{U(c) + \\beta \\mathbb{E}[V(k' ,\\epsilon'; \\Gamma', z')|z, \\epsilon]\\} \\\\\n",
    "c + k' &=& r(\\bar{k}, \\bar{\\ell}, z)k + w(\\bar{k}, \\bar{\\ell}, z)\\ell\\epsilon + (1-\\delta)k \\\\\n",
    "\\Gamma' &=& H(\\Gamma, z, z') \\\\\n",
    "k' &\\geq& 0 \\\\\n",
    "\\end{eqnarray*}"
   ]
  },
  {
   "cell_type": "markdown",
   "metadata": {
    "deletable": true,
    "editable": true
   },
   "source": [
    "Krusell and Smith define an equilibrium as a law of motion $H$, a value function $V$, a rule for updating capital $f$ and pricing functions $r$ and $w$, such that $V$ and $f$ solve the consumers problem, $r$ and $w$ denote the marginal products of capital and labour, and $H$ is consistent with $f$ (i.e. if we add up all of the individual agents capital choices we get the correct distribution of capital)."
   ]
  },
  {
   "cell_type": "markdown",
   "metadata": {
    "deletable": true,
    "editable": true
   },
   "source": [
    "##### Discussion of the KS Algorithm\n",
    "\n",
    "In principle, $\\Gamma$ is a high-dimensional object because it includes the whole distribution of individuals' wealth in the economy. Because the optimal amount to save is a nonlinear function of the level of idiosyncratic $k$, next period's aggregate capital stock $\\bar{k}'$ depends on the distribution of the holdings of idiosyncratic $k$ across the population of consumers. Therefore the law of motion $H$ is not a trivial function of the $\\Gamma$. \n",
    "\n",
    "KS simplified this problem as by noting the following. \n",
    "\n",
    "1. The agent cares about the future aggregate aggregate state only insofar as that state affects their own personal value of $c$\n",
    "1. Future values of $c$ depend on the aggregate state only through the budget constraint\n",
    "1. The channels by which the budget constraint depends on the aggregate state are:\n",
    "   * The probability distributions of $\\epsilon$ and $z$ are affected by the aggregate state\n",
    "   * Interest rates and wages depend on the future values of $\\bar{k}$ and $\\bar{\\ell}$\n",
    "1. The probability distributions for the future values of $\\{\\epsilon, z\\}$ are known\n",
    "   * They are fully determined by the Markov transition matrices\n",
    "1. But the values of $r$ and $w$ are both determined by the future value of $\\bar{k}$ (in combination with the exogenous value of $\\bar{\\ell}$)\n",
    "   * So the only _endogenous_ object that the agent needs to form expectations about, in order to have a complete rational expectation about everything affecting them, is $\\bar{k}'$\n",
    "\n",
    "The key result in Krusell and Smith is the discovery that a very simple linear rule does an extraordinarily good job (though not quite perfect) in forecasting $\\bar{k'}$\n",
    "\n",
    "They then argue that, since rationality is surely bounded to some degree, the solution that an agent obtains using a good forecasting rule for $\\bar{k}'$ is \"good enough\" to compute an \"approximate\" solution to the consumer's optimization problem.\n",
    "\n",
    "They define a generic algorithm to find a forecasting rule for $\\bar{k}$ as follows\n",
    "\n",
    "1. Choose the number of moments $n$ of the distribution of $k$ to be included in the set of variables to forecast $\\bar{k}'$. In the simplest case, $n=1$, the only forecasting variable for next period's $\\bar{k}'$ is the mean (the first moment, $n=1$)) of current capital, $\\bar{k}$.\n",
    "2. Each individual adopts the same belief about the law motion of these moments, $H_I$ and finds the optimal decision policy, $f_I$, contingent on that guess.\n",
    "3. Use the optimal policy to simulate a history of aggregate capital with a large number of agents. \n",
    "4. Characterize the realized law of motion using the same number of moments $n$ \n",
    "5. Compare it with the $H_I$, what is taken as given by individuals. \n",
    "6. Iterate until the two converge. \n",
    "\n",
    "In the end, the solution to the original problem is well approximated by the following simplified problem:\n",
    "\n",
    "\\begin{eqnarray*}\n",
    "V(k, \\epsilon; \\bar k, z) &=& max_{c, k'}\\{U(c) + \\beta E[V(k' ,\\epsilon'; \\bar k', z')|z, \\epsilon]\\} \\\\\n",
    "c + k' &=& r(\\bar{k}, \\bar{\\ell}, z)k + w(\\bar{k}, \\bar{\\ell}, z)l\\epsilon + (1-\\delta)k \\\\\n",
    "\\text{When }~ z=z_g, \\quad \\mathbb{E}[\\log\\bar{k}'] & = & a_0 + a_1 \\log\\bar k \\\\\n",
    "\\text{When }~ z=z_b,  \\quad \\mathbb{E}[\\log\\bar{k}'] & = & b_0 + b_1 \\log\\bar k \\\\\n",
    "k' &\\geq& 0 \\\\\n",
    "\\end{eqnarray*}"
   ]
  },
  {
   "cell_type": "markdown",
   "metadata": {
    "deletable": true,
    "editable": true
   },
   "source": [
    "## Implementation Using the HARK Toolkit"
   ]
  },
  {
   "cell_type": "markdown",
   "metadata": {
    "deletable": true,
    "editable": true
   },
   "source": [
    "#### The Consumer"
   ]
  },
  {
   "cell_type": "code",
   "execution_count": 1,
   "metadata": {
    "code_folding": [
     0
    ],
    "collapsed": true,
    "deletable": true,
    "editable": true
   },
   "outputs": [],
   "source": [
    "# Import generic setup tools\n",
    "\n",
    "# This is a jupytext paired notebook that autogenerates KrusellSmith.py\n",
    "# which can be executed from a terminal command line via \"ipython KrusellSmith.py\"\n",
    "# But a terminal does not permit inline figures, so we need to test jupyter vs terminal\n",
    "# Google \"how can I check if code is executed in the ipython notebook\"\n",
    "def in_ipynb():\n",
    "    try:\n",
    "        if str(type(get_ipython())) == \"<class 'ipykernel.zmqshell.ZMQInteractiveShell'>\":\n",
    "            return True\n",
    "        else:\n",
    "            return False\n",
    "    except NameError:\n",
    "        return False\n",
    "\n",
    "# Determine whether to make the figures inline (for spyder or jupyter)\n",
    "# vs whatever is the automatic setting that will apply if run from the terminal\n",
    "if in_ipynb():\n",
    "    # %matplotlib inline generates a syntax error when run from the shell\n",
    "    # so do this instead\n",
    "    get_ipython().run_line_magic('matplotlib', 'inline') \n",
    "else:\n",
    "    get_ipython().run_line_magic('matplotlib', 'auto') \n",
    "\n",
    "# Import the plot-figure library matplotlib\n",
    "\n",
    "import matplotlib\n",
    "import matplotlib.pyplot as plt\n",
    "matplotlib.rcParams['text.usetex'] = True\n",
    "\n",
    "\n",
    "import sys\n",
    "import os\n",
    "from copy import copy\n",
    "from HARK.utilities import plotFuncs, plotFuncsDer\n",
    "\n",
    "sys.path.insert(0, os.path.abspath('../lib'))\n",
    "\n",
    "# Find pathname to this file:\n",
    "my_file_path = os.path.dirname(os.path.abspath(\"KrusellSmithRep.ipynb\"))\n",
    "\n",
    "# Define (and create, if necessary) the figures directory \"Figures\"\n",
    "Figures_HARK_dir = os.path.join(my_file_path,\"Figures/\")\n",
    "\n",
    "if not os.path.exists(Figures_HARK_dir):\n",
    "    os.makedirs(Figures_HARK_dir)"
   ]
  },
  {
   "cell_type": "code",
   "execution_count": 2,
   "metadata": {
    "code_folding": [],
    "collapsed": true,
    "deletable": true,
    "editable": true
   },
   "outputs": [],
   "source": [
    "# Import components of HARK needed for solving the KS model\n",
    "from HARK.ConsumptionSaving.ConsAggShockModel import *\n",
    "import HARK.ConsumptionSaving.ConsumerParameters as Params\n",
    "\n",
    "# Markov consumer type that allows aggregate shocks (redundant but instructive)\n",
    "from HARK.ConsumptionSaving.ConsAggShockModel import AggShockMarkovConsumerType"
   ]
  },
  {
   "cell_type": "code",
   "execution_count": 3,
   "metadata": {
    "code_folding": [
     4
    ],
    "collapsed": true,
    "deletable": true,
    "editable": true
   },
   "outputs": [],
   "source": [
    "# Define a dictionary to make an 'instance' of our Krusell-Smith consumer.\n",
    "\n",
    "# The folded dictionary below contains many parameters to the \n",
    "# AggShockMarkovConsumerType agent that are not needed for the KS model\n",
    "KSAgentDictionary = { \n",
    "    \"CRRA\": 1.0,                           # Coefficient of relative risk aversion\n",
    "    \"DiscFac\": 0.99,                       # Intertemporal discount factor\n",
    "    \"LivPrb\" : [1.0],                      # Survival probability\n",
    "    \"AgentCount\" : 10000,                  # Number of agents of this type (only matters for simulation)\n",
    "    \"aNrmInitMean\" : 0.0,                  # Mean of log initial assets (only matters for simulation)\n",
    "    \"aNrmInitStd\"  : 0.0,                  # Standard deviation of log initial assets (only for simulation)\n",
    "    \"pLvlInitMean\" : 0.0,                  # Mean of log initial permanent income (only matters for simulation)\n",
    "    \"pLvlInitStd\"  : 0.0,                  # Standard deviation of log initial permanent income (only matters for simulation)\n",
    "    \"PermGroFacAgg\" : 1.0,                 # Aggregate permanent income growth factor (only matters for simulation)\n",
    "    \"T_age\" : None,                        # Age after which simulated agents are automatically killed\n",
    "    \"T_cycle\" : 1,                         # Number of periods in the cycle for this agent type\n",
    "# Parameters for constructing the \"assets above minimum\" grid\n",
    "    \"aXtraMin\" : 0.001,                    # Minimum end-of-period \"assets above minimum\" value\n",
    "    \"aXtraMax\" : 20,                       # Maximum end-of-period \"assets above minimum\" value               \n",
    "    \"aXtraExtra\" : [None],                 # Some other value of \"assets above minimum\" to add to the grid\n",
    "    \"aXtraNestFac\" : 3,                    # Exponential nesting factor when constructing \"assets above minimum\" grid\n",
    "    \"aXtraCount\" : 24,                     # Number of points in the grid of \"assets above minimum\"\n",
    "# Parameters describing the income process\n",
    "    \"PermShkCount\" : 1,                    # Number of points in discrete approximation to permanent income shocks - no shocks of this kind!\n",
    "    \"TranShkCount\" : 1,                    # Number of points in discrete approximation to transitory income shocks - no shocks of this kind!\n",
    "    \"PermShkStd\" : [0.],                   # Standard deviation of log permanent income shocks - no shocks of this kind!\n",
    "    \"TranShkStd\" : [0.],                   # Standard deviation of log transitory income shocks - no shocks of this kind!\n",
    "    \"UnempPrb\" : 0.0,                      # Probability of unemployment while working - no shocks of this kind!\n",
    "    \"UnempPrbRet\" : 0.00,                  # Probability of \"unemployment\" while retired - no shocks of this kind!\n",
    "    \"IncUnemp\" : 0.0,                      # Unemployment benefits replacement rate\n",
    "    \"IncUnempRet\" : 0.0,                   # \"Unemployment\" benefits when retired\n",
    "    \"tax_rate\" : 0.0,                      # Flat income tax rate\n",
    "    \"T_retire\" : 0,                        # Period of retirement (0 --> no retirement)\n",
    "    \"BoroCnstArt\" : 0.0,                   # Artificial borrowing constraint; imposed minimum level of end-of period assets   \n",
    "    \"cycles\": 0,                           # Consumer is infinitely lived\n",
    "    \"PermGroFac\" : [1.0],                  # Permanent income growth factor\n",
    "# New Parameters that we need now    \n",
    "    'MgridBase': np.array([0.1,0.3,0.6,\n",
    "                           0.8,0.9,0.98,\n",
    "                           1.0,1.02,1.1,\n",
    "                           1.2,1.6,2.0,\n",
    "                           3.0]),          # Grid of capital-to-labor-ratios (factors)\n",
    "    'MrkvArray': np.array([[0.825,0.175],\n",
    "                           [0.175,0.825]]),  # Transition probabilities for macroecon. [i,j] is probability of being in state j next\n",
    "                                           # period conditional on being in state i this period. \n",
    "    'PermShkAggStd' : [0.0,0.0],           # Standard deviation of log aggregate permanent shocks by state. No continous shocks in a state.\n",
    "    'TranShkAggStd' : [0.0,0.0],           # Standard deviation of log aggregate transitory shocks by state. No continuous shocks in a state.\n",
    "    'PermGroFacAgg' : 1.0\n",
    "}\n",
    "\n",
    "# Here we restate just the \"interesting\" parts of the consumer's specification\n",
    "\n",
    "KSAgentDictionary['CRRA']    = 1.0      # Relative risk aversion \n",
    "KSAgentDictionary['DiscFac'] = 0.99     # Intertemporal discount factor\n",
    "KSAgentDictionary['cycles']  = 0        # cycles=0 means consumer is infinitely lived\n",
    "\n",
    "# KS assume that 'good' and 'bad' times are of equal expected duration\n",
    "# The probability of a change in the aggregate state is p_change=0.125\n",
    "p_change=0.125\n",
    "p_remain=1-p_change\n",
    "\n",
    "# Now we define macro transition probabilities for AggShockMarkovConsumerType\n",
    "#   [i,j] is probability of being in state j next period conditional on being in state i this period. \n",
    "# In both states, there is 0.875 chance of staying, 0.125 chance of switching\n",
    "AggMrkvArray = \\\n",
    "np.array([[p_remain,p_change],  # Probabilities of states 0 and 1 next period if in state 0\n",
    "          [p_change,p_remain]]) # Probabilities of states 0 and 1 next period if in state 1\n",
    "KSAgentDictionary['MrkvArray'] = AggMrkvArray"
   ]
  },
  {
   "cell_type": "code",
   "execution_count": 4,
   "metadata": {
    "collapsed": true,
    "deletable": true,
    "editable": true
   },
   "outputs": [],
   "source": [
    "# Create the Krusell-Smith agent as an instance of AggShockMarkovConsumerType \n",
    "KSAgent = AggShockMarkovConsumerType(**KSAgentDictionary)"
   ]
  },
  {
   "cell_type": "markdown",
   "metadata": {
    "deletable": true,
    "editable": true
   },
   "source": [
    "Now we need to specify the income distribution. \n",
    "\n",
    "The HARK toolkit allows for two components of labor income: Persistent (or permanent), and transitory.  \n",
    "\n",
    "Using the KS notation above, a HARK consumer's income is\n",
    "\\begin{eqnarray}\n",
    "y & = & w p \\ell \\epsilon \n",
    "\\end{eqnarray}\n",
    "where $p$ is the persistent component of income.  Krusell and Smith did not incorporate a persistent component of income, however, so we will simply calibrate $p=1$ for all states.\n",
    "\n",
    "For each of the two aggregate states we need to specify:\n",
    "   * The _proportion_ of consumers in the $e$ and the $u$ states\n",
    "   * The level of persistent/permanent productivity $p$ (always 1)\n",
    "   * The ratio of actual to permanent productivity in each state $\\{e,u\\}$\n",
    "      * In the KS notation, this is $\\epsilon\\ell$  \n"
   ]
  },
  {
   "cell_type": "code",
   "execution_count": 5,
   "metadata": {
    "code_folding": [],
    "collapsed": true,
    "deletable": true,
    "editable": true
   },
   "outputs": [],
   "source": [
    "# Construct the income distribution for the Krusell-Smith agent\n",
    "prb_eg = 0.96         # Probability of   employment in the good state\n",
    "prb_ug = 1-prb_eg     # Probability of unemployment in the good state\n",
    "prb_eb = 0.90         # Probability of   employment in the bad state\n",
    "prb_ub = 1-prb_eb     # Probability of unemployment in the bad state\n",
    "p_ind  = 1            # Persistent component of income is always 1\n",
    "ell_ug = ell_ub = 0   # Labor supply is zero for unemployed consumers in either agg state\n",
    "ell_eg = 1.0/prb_eg   # Labor supply for employed consumer in good state\n",
    "ell_eb = 1.0/prb_eb   # 1=pe_g*ell_ge+pu_b*ell_gu=pe_b*ell_be+pu_b*ell_gu\n",
    "\n",
    "# IncomeDstn is a list of lists, one for each aggregate Markov state\n",
    "# Each contains three arrays of floats, representing a discrete approximation to the income process. \n",
    "# Order: \n",
    "#   state probabilities \n",
    "#   idiosyncratic persistent income level by state (KS have no persistent shocks p_ind is always 1.0)\n",
    "#   idiosyncratic transitory income level by state\n",
    "\n",
    "KSAgent.IncomeDstn[0] = \\\n",
    "[[np.array([prb_eg,prb_ug]),np.array([p_ind,p_ind]),np.array([ell_eg,ell_ug])], # Agg state good\n",
    " [np.array([prb_eb,prb_ub]),np.array([p_ind,p_ind]),np.array([ell_eb,ell_ub])]  # Agg state bad\n",
    "]"
   ]
  },
  {
   "cell_type": "markdown",
   "metadata": {
    "deletable": true,
    "editable": true
   },
   "source": [
    "Up to this point, individual agents do not have enough information to solve their decision problem yet. What is missing are beliefs about the endogenous macro variables $r$ and $w$, both of which are functions of $\\bar{k}$. "
   ]
  },
  {
   "cell_type": "markdown",
   "metadata": {
    "deletable": true,
    "editable": true
   },
   "source": [
    "#### The Aggregate Economy"
   ]
  },
  {
   "cell_type": "code",
   "execution_count": 6,
   "metadata": {
    "code_folding": [
     2
    ],
    "collapsed": true,
    "deletable": true,
    "editable": true
   },
   "outputs": [],
   "source": [
    "from HARK.ConsumptionSaving.ConsAggShockModel import CobbDouglasMarkovEconomy\n",
    "\n",
    "KSEconomyDictionary = {\n",
    "    'PermShkAggCount': 1, \n",
    "    'TranShkAggCount': 1, \n",
    "    'PermShkAggStd': [0.0,0.0], \n",
    "    'TranShkAggStd': [0.0,0.0], \n",
    "    'DeprFac': 0.025, # Depreciation factor\n",
    "    'CapShare': 0.36, # Share of capital income in cobb-douglas production function\n",
    "    'DiscFac': 0.99,\n",
    "    'CRRA': 1.0,\n",
    "    'PermGroFacAgg': [1.0,1.0],\n",
    "    'AggregateL':1.0, # Not sure on this. Looks like we have fixed the labour level...\n",
    "    'act_T':1200, # Number of periods for economy to run in simulation\n",
    "    'intercept_prev': [0.0,0.0], # Make some initial guesses at linear savings rule intercepts for each state\n",
    "    'slope_prev': [1.0,1.0], # Make some initial guesses at linear savings rule slopes for each state\n",
    "    'MrkvArray': np.array([[0.875,0.125],\n",
    "                           [0.125,0.875]]), # Transition probabilities\n",
    "    'MrkvNow_init': 0   # Pick a state to start in (we pick the first state)\n",
    "}\n",
    "\n",
    "# The 'interesting' parts of the CobbDouglasMarkovEconomy\n",
    "KSEconomyDictionary['CapShare']  = 0.36\n",
    "KSEconomyDictionary['MrkvArray'] = AggMrkvArray\n",
    "\n",
    "KSEconomy = CobbDouglasMarkovEconomy(agents = [KSAgent], **KSEconomyDictionary) # Combine production and consumption sides into an \"Economy\""
   ]
  },
  {
   "cell_type": "markdown",
   "metadata": {
    "deletable": true,
    "editable": true
   },
   "source": [
    "We have now populated the $\\texttt{KSEconomy}$ with $\\texttt{KSAgents}$ defined before. That is basically telling the agents to take the macro state from the $\\texttt{KSEconomy}$. \n",
    "\n",
    "Now we construct the $\\texttt{AggShkDstn}$ that specifies the evolution of the dynamics of the $\\texttt{KSEconomy}$.\n",
    "\n",
    "The structure of the inputs for $\\texttt{AggShkDstn}$ follows the same logic as for $\\texttt{IncomeDstn}$. Now there is only one possible outcome for each aggregate state (the KS aggregate states are very simple), therefore, each aggregate state has only one possible condition which happens with probability 1."
   ]
  },
  {
   "cell_type": "code",
   "execution_count": 7,
   "metadata": {
    "collapsed": true,
    "deletable": true,
    "editable": true
   },
   "outputs": [],
   "source": [
    "# Calibrate the magnitude of the aggregate shocks\n",
    "\n",
    "Tran_g = 1.01 # Productivity z in the good aggregate state\n",
    "Tran_b = 0.99 # and the bad state\n",
    "\n",
    "# The HARK framework allows permanent shocks\n",
    "Perm_g = Perm_b = 1.0 # KS assume there are no aggregate permanent shocks\n",
    "\n",
    "# Aggregate productivity shock distribution by state.\n",
    "# First element is probabilities of different outcomes, given the state you are in. \n",
    "# Second element is agg permanent shocks (here we don't have any, so just they are just 1.).\n",
    "# Third  element is agg transitory shocks, which are calibrated the same as in Krusell Smith.\n",
    "\n",
    "KSAggShkDstn = [\n",
    "    [np.array([1.0]),np.array([Perm_g]),np.array([Tran_g])], # Aggregate good\n",
    "    [np.array([1.0]),np.array([Perm_b]),np.array([Tran_b])]  # Aggregate bad\n",
    "]\n",
    "\n",
    "KSEconomy.AggShkDstn = KSAggShkDstn"
   ]
  },
  {
   "cell_type": "markdown",
   "metadata": {
    "deletable": true,
    "editable": true
   },
   "source": [
    "#### Summing Up\n",
    "\n",
    "The combined idiosyncratic and aggregate assumptions can be summarized mathematically as follows.\n",
    "\n",
    "$\\forall \\{s,s'\\}=\\{g,b\\}\\times\\{g,b\\}$, the following two conditions hold:\n",
    "\n",
    "$$\\underbrace{\\pi_{ss'01}}_{p(s \\rightarrow s',u \\rightarrow e)}+\\underbrace{\\pi_{ss'00}}_{p(s \\rightarrow s', u \\rightarrow u)} = \\underbrace{\\pi_{ss'11}}_{p(s\\rightarrow s', e \\rightarrow e) }  + \\underbrace{\\pi_{ss'10}}_{p(s \\rightarrow s', e \\rightarrow u)} = \\underbrace{\\pi_{ss'}}_{p(s\\rightarrow s')}$$\n",
    "\n",
    "$$u_s \\frac{\\pi_{ss'00}}{\\pi_{ss'}}+ (1-u_s) \\frac{\\pi_{ss'10}}{\\pi_{ss'}} = u_{s'}$$"
   ]
  },
  {
   "cell_type": "markdown",
   "metadata": {
    "deletable": true,
    "editable": true
   },
   "source": [
    "### Solving the Model\n",
    "Now, we have fully defined all of the elements of the macroeconomy, and we are in postion to construct an object that represents the economy and to construct a rational expectations equilibrium."
   ]
  },
  {
   "cell_type": "code",
   "execution_count": 8,
   "metadata": {
    "collapsed": false,
    "deletable": true,
    "editable": true
   },
   "outputs": [
    {
     "name": "stdout",
     "output_type": "stream",
     "text": [
      "intercept=[-0.38266000690730984, -0.37779831427667931], slope=[1.0943006435744065, 1.0934356265328735], r-sq=[0.99990076300977693, 0.99981018501870178]\n",
      "intercept=[-0.11933375285180679, -0.1185968246836473], slope=[1.0020567298848895, 1.0018948585798206], r-sq=[0.99999848532729274, 0.99999771392101078]\n",
      "intercept=[-0.064703305547172005, -0.064571885825450703], slope=[1.0054181080813114, 1.0053908441410278], r-sq=[0.99999999976275555, 0.99999999978792409]\n",
      "intercept=[-0.34738561649885558, -0.35911408629299502], slope=[1.0789089579282598, 1.0831729490226008], r-sq=[0.99996536599126851, 0.99995159029925185]\n",
      "intercept=[-0.088164352699155818, -0.08769094002768317], slope=[0.99766870152432829, 0.99756108477477634], r-sq=[0.99999995160192834, 0.99999993719349034]\n",
      "intercept=[-0.074651094501900384, -0.074600399178732346], slope=[1.0073883844292983, 1.0073782443454729], r-sq=[0.99999999930571937, 0.99999999935155226]\n",
      "intercept=[-0.34396416683017889, -0.35680167556477566], slope=[1.0775335219960243, 1.0820843030057887], r-sq=[0.99993779392108217, 0.9999208851703405]\n",
      "intercept=[-0.07955488305175909, -0.078765378124821872], slope=[0.9956007447012134, 0.995397530231105], r-sq=[0.99999996428452886, 0.9999999525225306]\n",
      "intercept=[-0.075036416560843019, -0.074925186397751448], slope=[1.0073747415743637, 1.0073464425627825], r-sq=[0.99999999919922811, 0.99999999926948413]\n",
      "intercept=[-0.34308148190191362, -0.35602887125669952], slope=[1.0772181088600177, 1.0817931124395479], r-sq=[0.99993396964144643, 0.99991655230435794]\n",
      "intercept=[-0.078555783644447152, -0.077721546444707898], slope=[0.99538803058402037, 0.99517146913280796], r-sq=[0.9999999657599673, 0.99999995415718967]\n",
      "intercept=[-0.075236584247350954, -0.075117041442951893], slope=[1.007406571318018, 1.0073757973931183], r-sq=[0.99999999917974391, 0.99999999925310412]\n",
      "intercept=[-0.34293251020806498, -0.35590594801693654], slope=[1.0771629653844998, 1.081744119677257], r-sq=[0.99993292271715695, 0.9999153653253654]\n",
      "intercept=[-0.078327144179891922, -0.077483523103178797], slope=[0.99533685980092779, 0.99511748903686037], r-sq=[0.9999999660596729, 0.99999995449470813]\n",
      "intercept=[-0.07526955316609564, -0.075148249925091073], slope=[1.007411075250608, 1.0073797763442729], r-sq=[0.99999999917574089, 0.99999999924984562]\n",
      "intercept=[-0.34290182367454691, -0.35588007239603003], slope=[1.077151734948381, 1.0817339996325288], r-sq=[0.9999327291713308, 0.99991514560648986]\n",
      "intercept=[-0.078284088278443811, -0.077438659136246882], slope=[0.99532736383075016, 0.99510745253784416], r-sq=[0.99999996611709918, 0.99999995455893453]\n",
      "intercept=[-0.075276558018719381, -0.075154916833124127], slope=[1.0074120943682034, 1.0073806947539663], r-sq=[0.99999999917495397, 0.99999999924919791]\n",
      "intercept=[-0.34289580484026444, -0.35587503131020665], slope=[1.0771495244239744, 1.081732016552126], r-sq=[0.99993268961242743, 0.9999151007290652]\n",
      "intercept=[-0.078275399016435945, -0.077429607662625966], slope=[0.99532543876447899, 0.99510541914157713], r-sq=[0.99999996612858266, 0.99999995457180468]\n"
     ]
    }
   ],
   "source": [
    "# Construct the economy, make an initial history, then solve \n",
    "\n",
    "KSAgent.getEconomyData(KSEconomy) # Makes attributes of the economy, attributes of the agent\n",
    "\n",
    "KSEconomy.makeAggShkHist() # Make a simulated history of the economy\n",
    "\n",
    "# Solve macro problem by finding a fixed point for beliefs\n",
    "\n",
    "KSEconomy.solve() # Solve the economy using the market method. \n",
    "# i.e. guess the saving function, and iterate until a fixed point"
   ]
  },
  {
   "cell_type": "markdown",
   "metadata": {
    "deletable": true,
    "editable": true
   },
   "source": [
    "The last line above is the converged aggregate saving rule for good and bad times, respectively."
   ]
  },
  {
   "cell_type": "code",
   "execution_count": 9,
   "metadata": {
    "code_folding": [],
    "collapsed": false,
    "deletable": true,
    "editable": true,
    "scrolled": true
   },
   "outputs": [
    {
     "name": "stdout",
     "output_type": "stream",
     "text": [
      "Aggregate savings as a function of aggregate market resources:\n"
     ]
    },
    {
     "data": {
      "image/png": "[encoded data removed]",
      "text/plain": [
       "<matplotlib.figure.Figure at 0x11cb6e080>"
      ]
     },
     "metadata": {},
     "output_type": "display_data"
    }
   ],
   "source": [
    "# Plot some key results\n",
    "\n",
    "print('Aggregate savings as a function of aggregate market resources:')\n",
    "kgrid = np.linspace(0.1,2*KSEconomy.kSS,100)\n",
    "kpgrid = np.zeros(100)\n",
    "kpgrid_g =KSEconomy.AFunc[0](kgrid)\n",
    "kpgrid_b =KSEconomy.AFunc[1](kgrid)\n",
    "plt.plot(kgrid,kpgrid_g)\n",
    "plt.plot(kgrid,kpgrid_b)\n",
    "plt.xlabel('k_t')\n",
    "plt.ylabel('k_{t+1}')\n",
    "#plotFuncs(KSEconomy.AFunc,0.1,2*KSEconomy.kSS)\n",
    "plt.savefig(os.path.join(Figures_HARK_dir, 'KFuncsConverge.png'))\n",
    "#plt.savefig(os.path.join(Figures_HARK_dir, 'KFuncsConverge.jpg'))\n",
    "#plt.savefig(os.path.join(Figures_HARK_dir, 'KFuncsConverge.pdf'))\n",
    "#plt.savefig(os.path.join(Figures_HARK_dir, 'KFuncsConverge.svg'))"
   ]
  },
  {
   "cell_type": "code",
   "execution_count": 10,
   "metadata": {
    "collapsed": false,
    "deletable": true,
    "editable": true
   },
   "outputs": [
    {
     "name": "stdout",
     "output_type": "stream",
     "text": [
      "Consumption function at each aggregate market resources gridpoint (in general equilibrium):\n"
     ]
    },
    {
     "data": {
      "image/png": "[encoded data removed]",
      "text/plain": [
       "<matplotlib.figure.Figure at 0x11cc7ea58>"
      ]
     },
     "metadata": {},
     "output_type": "display_data"
    }
   ],
   "source": [
    "print('Consumption function at each aggregate market resources gridpoint (in general equilibrium):')\n",
    "KSAgent.unpackcFunc()\n",
    "m_grid = np.linspace(0,10,200)\n",
    "KSAgent.unpackcFunc()\n",
    "for M in KSAgent.Mgrid:\n",
    "    c_at_this_M = KSAgent.solution[0].cFunc[0](m_grid,M*np.ones_like(m_grid)) #Have two consumption functions, check this\n",
    "    plt.plot(m_grid,c_at_this_M)\n",
    "plt.xlabel('m_t')\n",
    "plt.ylabel('c_t')\n",
    "#plt.show()\n",
    "plt.savefig(os.path.join(Figures_HARK_dir, 'cFuncsConverge.png'))\n",
    "#plt.savefig(os.path.join(Figures_HARK_dir, 'cFuncsConverge.jpg'))\n",
    "#plt.savefig(os.path.join(Figures_HARK_dir, 'cFuncsConverge.pdf'))\n",
    "#plt.savefig(os.path.join(Figures_HARK_dir, 'cFuncsConverge.svg'))"
   ]
  },
  {
   "cell_type": "code",
   "execution_count": 11,
   "metadata": {
    "collapsed": false,
    "deletable": true,
    "editable": true
   },
   "outputs": [
    {
     "name": "stdout",
     "output_type": "stream",
     "text": [
      "Saving at each individual market resources gridpoint (in general equilibrium):\n"
     ]
    },
    {
     "data": {
      "image/png": "[encoded data removed]",
      "text/plain": [
       "<matplotlib.figure.Figure at 0x11cd919e8>"
      ]
     },
     "metadata": {},
     "output_type": "display_data"
    }
   ],
   "source": [
    "print('Saving at each individual market resources gridpoint (in general equilibrium):')\n",
    "KSAgent.unpackcFunc()\n",
    "m_grid = np.linspace(0,10,200)\n",
    "KSAgent.unpackcFunc()\n",
    "for M in KSAgent.Mgrid:\n",
    "    s_at_this_M = m_grid-KSAgent.solution[0].cFunc[1](m_grid,M*np.ones_like(m_grid))\n",
    "    c_at_this_M = KSAgent.solution[0].cFunc[1](m_grid,M*np.ones_like(m_grid)) #Have two consumption functions, check this\n",
    "    plt.plot(m_grid,s_at_this_M)\n",
    "plt.xlabel('m_t')\n",
    "plt.ylabel('s_t')\n",
    "#plt.show()\n",
    "plt.savefig(os.path.join(Figures_HARK_dir, 'sFuncsConverge.png'))\n",
    "#plt.savefig(os.path.join(Figures_HARK_dir, 'sFuncsConverge.jpg'))\n",
    "#plt.savefig(os.path.join(Figures_HARK_dir, 'sFuncsConverge.pdf'))\n",
    "#plt.savefig(os.path.join(Figures_HARK_dir, 'sFuncsConverge.svg'))"
   ]
  },
  {
   "cell_type": "markdown",
   "metadata": {
    "deletable": true,
    "editable": true
   },
   "source": [
    "### The Wealth Distribution in KS\n",
    "\n",
    "#### Benchmark Model\n"
   ]
  },
  {
   "cell_type": "code",
   "execution_count": 12,
   "metadata": {
    "collapsed": false,
    "deletable": true,
    "editable": true
   },
   "outputs": [
    {
     "name": "stdout",
     "output_type": "stream",
     "text": [
      "The mean of individual wealth is 25.2595466865;\n",
      " the standard deviation is 5.12755806897;\n",
      " the median is 25.4484373625.\n"
     ]
    }
   ],
   "source": [
    "sim_wealth = KSEconomy.aLvlNow[0]\n",
    "\n",
    "print(\"The mean of individual wealth is \"+ str(sim_wealth.mean()) + \";\\n the standard deviation is \"\n",
    "      + str(sim_wealth.std())+\";\\n the median is \" + str(np.median(sim_wealth)) +\".\")"
   ]
  },
  {
   "cell_type": "code",
   "execution_count": 13,
   "metadata": {
    "code_folding": [
     0
    ],
    "collapsed": true,
    "deletable": true,
    "editable": true
   },
   "outputs": [],
   "source": [
    "# Get some tools for plotting simulated vs actual wealth distributions\n",
    "from HARK.utilities import getLorenzShares, getPercentiles\n",
    "\n",
    "# The cstwMPC model conveniently has data on the wealth distribution \n",
    "# from the U.S. Survey of Consumer Finances\n",
    "from HARK.cstwMPC.SetupParamsCSTW import SCF_wealth, SCF_weights"
   ]
  },
  {
   "cell_type": "code",
   "execution_count": 14,
   "metadata": {
    "code_folding": [
     0
    ],
    "collapsed": false,
    "deletable": true,
    "editable": true
   },
   "outputs": [
    {
     "data": {
      "image/png": "[encoded data removed]",
      "text/plain": [
       "<matplotlib.figure.Figure at 0x11d01afd0>"
      ]
     },
     "metadata": {},
     "output_type": "display_data"
    }
   ],
   "source": [
    "# Construct the Lorenz curves and plot them\n",
    "\n",
    "pctiles = np.linspace(0.001,0.999,15)\n",
    "SCF_Lorenz_points = getLorenzShares(SCF_wealth,weights=SCF_weights,percentiles=pctiles)\n",
    "sim_Lorenz_points = getLorenzShares(sim_wealth,percentiles=pctiles)\n",
    "\n",
    "# Plot \n",
    "plt.figure(figsize=(5,5))\n",
    "plt.title('Wealth Distribution')\n",
    "plt.plot(pctiles,SCF_Lorenz_points,'--k',label='SCF')\n",
    "plt.plot(pctiles,sim_Lorenz_points,'-b',label='Benchmark KS')\n",
    "plt.plot(pctiles,pctiles,'g-.',label='45 Degree')\n",
    "plt.xlabel('Percentile of net worth')\n",
    "plt.ylabel('Cumulative share of wealth')\n",
    "plt.legend(loc=2)\n",
    "plt.ylim([0,1])\n",
    "plt.savefig(os.path.join(Figures_HARK_dir, 'LorenzBaseline.png'))\n",
    "#plt.savefig(os.path.join(Figures_HARK_dir, 'LorenzBaseline.jpg'))\n",
    "#plt.savefig(os.path.join(Figures_HARK_dir, 'LorenzBaseline.pdf'))\n",
    "#plt.savefig(os.path.join(Figures_HARK_dir, 'LorenzBaseline.svg'))"
   ]
  },
  {
   "cell_type": "code",
   "execution_count": 29,
   "metadata": {
    "collapsed": false,
    "deletable": true,
    "editable": true
   },
   "outputs": [
    {
     "name": "stdout",
     "output_type": "stream",
     "text": [
      "The Euclidean distance between simulated wealth distribution and the estimates from the SCF data is 1.44624205258\n"
     ]
    }
   ],
   "source": [
    "# Calculate a measure of the difference between the simulated and empirical distributions\n",
    "lorenz_distance = np.sqrt(np.sum((SCF_Lorenz_points - sim_Lorenz_points)**2))\n",
    "print(\"The Euclidean distance between simulated wealth distribution and the estimates from the SCF data is \"+str(lorenz_distance) )"
   ]
  },
  {
   "cell_type": "markdown",
   "metadata": {
    "deletable": true,
    "editable": true
   },
   "source": [
    "#### Heterogeneous Time Preference Rates\n",
    "\n",
    "As the figures show, the distribution of wealth that the baseline KS model produces is very far from matching the empirical degree of inequality in the US data.\n",
    "\n",
    "This could matter for macroeconomic purposes.  For example, the SCF data indicate that many agents are concentrated at low values of wealth where the MPC is very large.  We might expect, therefore, that a fiscal policy \"stimulus\" that gives a fixed amount of money to every agent would have a large effect on the consumption of the low-wealth households who have a high Marginal Propensity to Consume.\n",
    "\n",
    "KS attempt to address this problem by assuming that an individual agent's time preference rate can change over time.\n",
    "\n",
    "The rationale is that this represents a generational transition: The \"agent\" is really a \"dynasty\" and the time preference rate of the \"child\" dynast may differ from that of the \"parent.\"\n",
    "\n",
    "Specifically, KS assume that $\\beta$ can take on three values, 0.9858, 0.9894, and 0.9930, and that the transition probabilities are such that \n",
    "- The invariant distribution for $\\beta$’s has 80 percent of the population at the middle $\\beta$ and 10 percent at each of the other $\\beta$’s.\n",
    "- Immediate transitions between the extreme values of $\\beta$ occur with probability zero. \n",
    "- The average duration of the highest and lowest $\\beta$’s is 50 years. \n",
    "\n",
    "The HARK toolkit is not natively set up to accommodate stochastic time preference factors (though an extension to accommodate this would be easy).  \n",
    "\n",
    "Here, instead, we assume that different agents have different values of $\\beta$ that are uniformly distributed over some range. We approximate the uniform distribution by three points.  The agents are heterogeneous _ex ante_ (and permanently)."
   ]
  },
  {
   "cell_type": "code",
   "execution_count": 30,
   "metadata": {
    "code_folding": [
     0
    ],
    "collapsed": true,
    "deletable": true,
    "editable": true
   },
   "outputs": [],
   "source": [
    "# Construct the distribution of types\n",
    "from HARK.utilities import approxUniform\n",
    "\n",
    "# Specify the distribution of the discount factor\n",
    "num_types = 3              # number of types we want;\n",
    "DiscFac_mean   = 0.9858    # center of beta distribution \n",
    "DiscFac_spread = 0.0085    # spread of beta distribution\n",
    "DiscFac_dstn = approxUniform(num_types, DiscFac_mean-DiscFac_spread, DiscFac_mean+DiscFac_spread)[1]\n",
    "BaselineType = deepcopy(KSAgent)\n",
    "\n",
    "MyTypes = [] # initialize an empty list to hold our consumer types\n",
    "for nn in range(len(DiscFac_dstn)):\n",
    "    # Now create the types, and append them to the list MyTypes\n",
    "    NewType = deepcopy(BaselineType)\n",
    "    NewType.DiscFac = DiscFac_dstn[nn]\n",
    "    NewType.seed = nn # give each consumer type a different RNG seed\n",
    "    MyTypes.append(NewType)"
   ]
  },
  {
   "cell_type": "code",
   "execution_count": 31,
   "metadata": {
    "code_folding": [
     0
    ],
    "collapsed": false,
    "deletable": true,
    "editable": true
   },
   "outputs": [
    {
     "name": "stdout",
     "output_type": "stream",
     "text": [
      "**** WARNING: could not execute multiThreadCommands in HARK.core.Market.solveAgents(), so using the serial version instead. This will likely be slower. The multiTreadCommands() functions failed with the following error: \n",
      "     <class 'AttributeError'> : Can't pickle local object 'CobbDouglasEconomy.update.<locals>.<lambda>'\n",
      "intercept=[-0.1091462083978965, -0.10277670163982143], slope=[1.013601983314748, 1.0121591803339225], r-sq=[0.99997651520252429, 0.99994338195403853]\n",
      "intercept=[-0.28743921897049013, -0.28817683338830824], slope=[1.0590810537929205, 1.059664063765541], r-sq=[0.99974707753448533, 0.99951800067065322]\n",
      "intercept=[-0.20309971183677353, -0.20752498416456905], slope=[1.0350625178111115, 1.0365381184926743], r-sq=[0.99986973864812068, 0.99972100814260645]\n",
      "intercept=[-0.23113547838848431, -0.22742204670996588], slope=[1.0437930305727412, 1.0430849908811526], r-sq=[0.99940877454610266, 0.99879338819287011]\n",
      "intercept=[-0.24144332220269216, -0.24654225752691328], slope=[1.0459490524680743, 1.0476012093719302], r-sq=[0.99984423644952092, 0.99968364640015495]\n",
      "intercept=[-0.25431004090803755, -0.24861597440520028], slope=[1.0498044805011855, 1.0485663921633783], r-sq=[0.99929258970866741, 0.99857301841366586]\n",
      "intercept=[-0.23816540126280603, -0.24717601143619475], slope=[1.0452129684837217, 1.0479053336716004], r-sq=[0.99976829629514008, 0.9995089119257341]\n",
      "intercept=[-0.24769841126875558, -0.25372248198874187], slope=[1.0480366682952398, 1.0498684737869082], r-sq=[0.99940690453301262, 0.9987928609428135]\n",
      "intercept=[-0.25197672955477263, -0.25518602416378111], slope=[1.0489868326979173, 1.0500970425950453], r-sq=[0.99962418176625945, 0.99921500414483833]\n",
      "intercept=[-0.24946130385301465, -0.24990932227163198], slope=[1.0484644284238445, 1.0488258688129708], r-sq=[0.99943264681049238, 0.99883413775881791]\n",
      "intercept=[-0.24827598526125078, -0.25129684501025795], slope=[1.0480158102377912, 1.0490748180762299], r-sq=[0.99963115994169993, 0.99922543902610184]\n",
      "intercept=[-0.24995958213792929, -0.25008094744053311], slope=[1.0485811405613827, 1.0488559722559136], r-sq=[0.99946527280571429, 0.99890148212799446]\n",
      "intercept=[-0.24940144792429667, -0.25176410620919354], slope=[1.0483333141368825, 1.0492138771060797], r-sq=[0.99961081158396292, 0.99918708656561239]\n",
      "intercept=[-0.24896748496043436, -0.24959205215289149], slope=[1.0483041100066235, 1.0487133739427366], r-sq=[0.99948150016515047, 0.99892935335002853]\n",
      "intercept=[-0.24993575843210525, -0.25311077484236216], slope=[1.0484882681225018, 1.0495859144591921], r-sq=[0.99958788342233251, 0.99914895302423057]\n",
      "intercept=[-0.24763642359118873, -0.24889328461349008], slope=[1.0479384244121115, 1.0485171467513408], r-sq=[0.9994995250962917, 0.99896060381269824]\n",
      "intercept=[-0.24762972143127193, -0.25355548086802127], slope=[1.0478787372459069, 1.0497135742452959], r-sq=[0.99957062400772057, 0.9991044780831857]\n",
      "intercept=[-0.24714937179641686, -0.24868433038399967], slope=[1.0478010221895031, 1.0484545858938545], r-sq=[0.99951861466426428, 0.99899725369386383]\n",
      "intercept=[-0.24792679926805383, -0.25073110328651532], slope=[1.0479648312184158, 1.0489617993807667], r-sq=[0.99956169499642877, 0.99908165861635678]\n",
      "intercept=[-0.24847326774620337, -0.24941612284349862], slope=[1.048149689864238, 1.0486451747172048], r-sq=[0.99951550233499242, 0.99899310865667212]\n"
     ]
    }
   ],
   "source": [
    "# Put all agents into the economy\n",
    "KSEconomy_sim = CobbDouglasMarkovEconomy(agents = MyTypes, **KSEconomyDictionary) \n",
    "KSEconomy_sim.AggShkDstn = KSAggShkDstn # Agg shocks are the same as defined earlier\n",
    "\n",
    "for ThisType in MyTypes:\n",
    "    ThisType.getEconomyData(KSEconomy_sim) # Makes attributes of the economy, attributes of the agent\n",
    "\n",
    "KSEconomy_sim.makeAggShkHist() # Make a simulated prehistory of the economy\n",
    "KSEconomy_sim.solve()          # Solve macro problem by getting a fixed point dynamic rule"
   ]
  },
  {
   "cell_type": "code",
   "execution_count": 32,
   "metadata": {
    "code_folding": [
     0
    ],
    "collapsed": false,
    "deletable": true,
    "editable": true
   },
   "outputs": [
    {
     "name": "stdout",
     "output_type": "stream",
     "text": [
      "Aggregate capital to income ratio is 39.5338402087\n"
     ]
    }
   ],
   "source": [
    "# Get the level of end-of-period assets a for all types of consumers\n",
    "aLvl_all = np.concatenate([KSEconomy_sim.aLvlNow[i] for i in range(len(MyTypes))])\n",
    "print('Aggregate capital to income ratio is ' + str(np.mean(aLvl_all)))"
   ]
  },
  {
   "cell_type": "code",
   "execution_count": 33,
   "metadata": {
    "code_folding": [
     0
    ],
    "collapsed": false,
    "deletable": true,
    "editable": true
   },
   "outputs": [
    {
     "data": {
      "image/png": "[encoded data removed]",
      "text/plain": [
       "<matplotlib.figure.Figure at 0x11f89a320>"
      ]
     },
     "metadata": {},
     "output_type": "display_data"
    }
   ],
   "source": [
    "# Plot the distribution of wealth across all agent types\n",
    "sim_3beta_wealth = aLvl_all\n",
    "pctiles = np.linspace(0.001,0.999,15)\n",
    "sim_Lorenz_points = getLorenzShares(sim_wealth,percentiles=pctiles)\n",
    "SCF_Lorenz_points = getLorenzShares(SCF_wealth,weights=SCF_weights,percentiles=pctiles)\n",
    "sim_3beta_Lorenz_points = getLorenzShares(sim_3beta_wealth,percentiles=pctiles)\n",
    "\n",
    "## Plot\n",
    "plt.figure(figsize=(5,5))\n",
    "plt.title('Wealth Distribution')\n",
    "plt.plot(pctiles,SCF_Lorenz_points,'--k',label='SCF')\n",
    "plt.plot(pctiles,sim_Lorenz_points,'-b',label='Benchmark KS')\n",
    "plt.plot(pctiles,sim_3beta_Lorenz_points,'-*r',label='3 Types')\n",
    "plt.plot(pctiles,pctiles,'g-.',label='45 Degree')\n",
    "plt.xlabel('Percentile of net worth')\n",
    "plt.ylabel('Cumulative share of wealth')\n",
    "plt.legend(loc=2)\n",
    "plt.ylim([0,1])\n",
    "#plt.show()\n",
    "plt.savefig(os.path.join(Figures_HARK_dir, 'Lorenz3beta.png'))\n",
    "#plt.savefig(os.path.join(Figures_HARK_dir, 'Lorenz3beta.jpg'))\n",
    "#plt.savefig(os.path.join(Figures_HARK_dir, 'Lorenz3beta.pdf'))\n",
    "#plt.savefig(os.path.join(Figures_HARK_dir, 'Lorenz3beta.svg'))"
   ]
  },
  {
   "cell_type": "code",
   "execution_count": 34,
   "metadata": {
    "code_folding": [
     0
    ],
    "collapsed": false,
    "deletable": true,
    "editable": true
   },
   "outputs": [
    {
     "data": {
      "image/png": "[encoded data removed]",
      "text/plain": [
       "<matplotlib.figure.Figure at 0x11f889518>"
      ]
     },
     "metadata": {},
     "output_type": "display_data"
    }
   ],
   "source": [
    "# Plot the distribution of wealth \n",
    "for i in range(len(MyTypes)):\n",
    "    if i<=2:\n",
    "        plt.hist(KSEconomy_sim.aLvlNow[i],label=r'\\beta='+str(round(DiscFac_dstn[i],4)))\n",
    "plt.legend(loc=2)\n",
    "plt.title('Wealth Distribution of 3 Types')\n",
    "plt.savefig(os.path.join(Figures_HARK_dir, 'Dist3beta.png'))\n",
    "#plt.savefig(os.path.join(Figures_HARK_dir, 'Lorenz3beta.jpg'))\n",
    "#plt.savefig(os.path.join(Figures_HARK_dir, 'Lorenz3beta.pdf'))\n",
    "#plt.savefig(os.path.join(Figures_HARK_dir, 'Lorenz3beta.svg'))"
   ]
  },
  {
   "cell_type": "code",
   "execution_count": 35,
   "metadata": {
    "collapsed": false,
    "deletable": true,
    "editable": true
   },
   "outputs": [
    {
     "data": {
      "text/plain": [
       "<matplotlib.text.Text at 0x11f329ef0>"
      ]
     },
     "execution_count": 35,
     "metadata": {},
     "output_type": "execute_result"
    },
    {
     "data": {
      "image/png": "[encoded data removed]",
      "text/plain": [
       "<matplotlib.figure.Figure at 0x11f9ad630>"
      ]
     },
     "metadata": {},
     "output_type": "display_data"
    }
   ],
   "source": [
    "# Zoom in on 'Wealth Distribution of the Most Impatient Type'\n",
    "plt.hist(KSEconomy_sim.aLvlNow[0])\n",
    "plt.title('Wealth Distribution of the Most Impatient Type')"
   ]
  },
  {
   "cell_type": "code",
   "execution_count": 36,
   "metadata": {
    "collapsed": false,
    "deletable": true,
    "editable": true
   },
   "outputs": [
    {
     "data": {
      "text/plain": [
       "<matplotlib.text.Text at 0x11f41ffd0>"
      ]
     },
     "execution_count": 36,
     "metadata": {},
     "output_type": "execute_result"
    },
    {
     "data": {
      "image/png": "[encoded data removed]",
      "text/plain": [
       "<matplotlib.figure.Figure at 0x117c165f8>"
      ]
     },
     "metadata": {},
     "output_type": "display_data"
    }
   ],
   "source": [
    "# Wealth Distribution of the most patient type\n",
    "plt.hist(KSEconomy_sim.aLvlNow[-1])\n",
    "plt.title('Wealth Distribution of the Most Patient Type')"
   ]
  },
  {
   "cell_type": "code",
   "execution_count": null,
   "metadata": {
    "collapsed": true,
    "deletable": true,
    "editable": true
   },
   "outputs": [],
   "source": []
  }
 ],
 "metadata": {
  "jupytext": {
   "formats": "ipynb,py:percent",
   "text_representation": {
    "extension": ".py",
    "format_name": "percent",
    "format_version": "1.1",
    "jupytext_version": "0.8.3"
   }
  },
  "kernelspec": {
   "display_name": "Python 3",
   "language": "python",
   "name": "python3"
  },
  "language_info": {
   "codemirror_mode": {
    "name": "ipython",
    "version": 3
   },
   "file_extension": ".py",
   "mimetype": "text/x-python",
   "name": "python",
   "nbconvert_exporter": "python",
   "pygments_lexer": "ipython3",
   "version": "3.5.3"
  }
 },
 "nbformat": 4,
 "nbformat_minor": 2
}
